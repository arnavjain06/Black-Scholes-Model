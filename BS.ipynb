{
 "cells": [
  {
   "cell_type": "code",
   "execution_count": 19,
   "metadata": {},
   "outputs": [],
   "source": [
    "import math\n",
    "from scipy.stats import norm"
   ]
  },
  {
   "cell_type": "code",
   "execution_count": 20,
   "metadata": {},
   "outputs": [],
   "source": [
    "#variables\n",
    "\n",
    "S = 42 #underlying price\n",
    "K = 40 #strike price\n",
    "r = 0.1 #risk free interest rate\n",
    "t = 0.5 #time till expiration in years\n",
    "vol = 0.2 #volatility or the standard deviation of the stocks prices"
   ]
  },
  {
   "cell_type": "code",
   "execution_count": 21,
   "metadata": {},
   "outputs": [],
   "source": [
    "#calculation for d1\n",
    "d1 = ((math.log(S/K) + ((r + 0.5 * vol**2))) / (vol * math.sqrt(t)))"
   ]
  },
  {
   "cell_type": "code",
   "execution_count": 22,
   "metadata": {},
   "outputs": [],
   "source": [
    "#calculation for d2\n",
    "d2 = d1 - vol * math.sqrt(t)"
   ]
  },
  {
   "cell_type": "code",
   "execution_count": 23,
   "metadata": {},
   "outputs": [],
   "source": [
    "#Calculate the call option price\n",
    "C = S * norm.cdf(d1) - K * math.exp(-r * t) * norm.cdf(d2)"
   ]
  },
  {
   "cell_type": "code",
   "execution_count": 24,
   "metadata": {},
   "outputs": [],
   "source": [
    "P = K * math.exp(-r * t) * norm.cdf(-d2) - S * norm.cdf(-d1) "
   ]
  },
  {
   "cell_type": "code",
   "execution_count": 25,
   "metadata": {},
   "outputs": [
    {
     "name": "stdout",
     "output_type": "stream",
     "text": [
      "This is the value of d1:  1.1935\n",
      "This is the value of d2:  1.0521\n",
      "This is the value of call option price : $ 4.63\n",
      "This is the value of put option price : $ 0.68\n"
     ]
    }
   ],
   "source": [
    "#print the values\n",
    "print(\"This is the value of d1: \", (round(d1, 4)))\n",
    "print(\"This is the value of d2: \", (round(d2, 4)))\n",
    "print(\"This is the value of call option price : $\", (round(C, 2)))\n",
    "print(\"This is the value of put option price : $\", (round(P, 2)))\n"
   ]
  },
  {
   "cell_type": "code",
   "execution_count": null,
   "metadata": {},
   "outputs": [],
   "source": []
  }
 ],
 "metadata": {
  "kernelspec": {
   "display_name": "Python 3",
   "language": "python",
   "name": "python3"
  },
  "language_info": {
   "codemirror_mode": {
    "name": "ipython",
    "version": 3
   },
   "file_extension": ".py",
   "mimetype": "text/x-python",
   "name": "python",
   "nbconvert_exporter": "python",
   "pygments_lexer": "ipython3",
   "version": "3.11.5"
  },
  "orig_nbformat": 4
 },
 "nbformat": 4,
 "nbformat_minor": 2
}
